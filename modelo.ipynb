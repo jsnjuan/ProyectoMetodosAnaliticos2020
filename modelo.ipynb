{
 "cells": [
  {
   "cell_type": "code",
   "execution_count": 0,
   "metadata": {
    "colab": {},
    "colab_type": "code",
    "id": "J2W42KSmVwBF"
   },
   "outputs": [],
   "source": [
    "import tensorflow as tf\n",
    "\n",
    "import matplotlib.pyplot as plt\n",
    "import matplotlib.ticker as ticker\n",
    "from sklearn.model_selection import train_test_split\n",
    "\n",
    "import unicodedata\n",
    "import re\n",
    "import numpy as np\n",
    "import os\n",
    "import io\n",
    "import time\n",
    "import pickle"
   ]
  },
  {
   "cell_type": "code",
   "execution_count": 0,
   "metadata": {
    "colab": {},
    "colab_type": "code",
    "id": "ugWbZT0nV6iW"
   },
   "outputs": [],
   "source": [
    "path_to_file = '20200525 - ls_tuplas_5_ASSISTANT_ONLY.pkl'\n",
    "\n",
    "# 1. Remove the accents\n",
    "# 2. Clean the sentences\n",
    "# 3. Return word pairs in the format: [ENGLISH, SPANISH]\n",
    "def create_dataset(path, num_examples):\n",
    "\n",
    "  with open(path, 'rb') as f:\n",
    "    ls_tuplas = pickle.load(f)\n",
    "  return zip(*ls_tuplas)"
   ]
  },
  {
   "cell_type": "code",
   "execution_count": 25,
   "metadata": {
    "colab": {
     "base_uri": "https://localhost:8080/",
     "height": 72
    },
    "colab_type": "code",
    "id": "YDGMl9csWhKw",
    "outputId": "bdbe1c2f-b46b-4b12-9543-01b87cca86c4"
   },
   "outputs": [
    {
     "name": "stdout",
     "output_type": "stream",
     "text": [
      "<start> have a wonderful afternoon \\. <end>\n",
      "<start> carryout please \\. ok \\. will that be all for today ? yes \\. thank you \\. your pizza order is complete and your order will be ready for pick up in 25 minutes \\. your receipt will be emailed to you \\. thank you very much \\. <end>\n"
     ]
    }
   ],
   "source": [
    "\n",
    "resp, expr = create_dataset(path_to_file, None)\n",
    "print(expr[-1])\n",
    "print(resp[-1])\n"
   ]
  },
  {
   "cell_type": "code",
   "execution_count": 0,
   "metadata": {
    "colab": {},
    "colab_type": "code",
    "id": "ysnGI2K5W0wo"
   },
   "outputs": [],
   "source": [
    "def tokenize(lang):\n",
    "  lang_tokenizer = tf.keras.preprocessing.text.Tokenizer(\n",
    "      filters='')\n",
    "  lang_tokenizer.fit_on_texts(lang)\n",
    "\n",
    "  tensor = lang_tokenizer.texts_to_sequences(lang)\n",
    "\n",
    "  tensor = tf.keras.preprocessing.sequence.pad_sequences(tensor,\n",
    "                                                         padding='post')\n",
    "\n",
    "  return tensor, lang_tokenizer\n",
    "\n",
    "def load_dataset(path, num_examples=None):\n",
    "  # creating cleaned input, output pairs\n",
    "  targ_lang, inp_lang = create_dataset(path, num_examples)\n",
    "\n",
    "  input_tensor, inp_lang_tokenizer = tokenize(inp_lang)\n",
    "  target_tensor, targ_lang_tokenizer = tokenize(targ_lang)\n",
    "\n",
    "  return input_tensor, target_tensor, inp_lang_tokenizer, targ_lang_tokenizer"
   ]
  },
  {
   "cell_type": "code",
   "execution_count": 27,
   "metadata": {
    "colab": {
     "base_uri": "https://localhost:8080/",
     "height": 34
    },
    "colab_type": "code",
    "id": "eulOUBBJXCqz",
    "outputId": "a50f257f-e4d9-4472-d243-bef5b4f4561e"
   },
   "outputs": [
    {
     "name": "stdout",
     "output_type": "stream",
     "text": [
      "10562 10562 2641 2641\n"
     ]
    }
   ],
   "source": [
    "# Try experimenting with the size of that dataset\n",
    "num_examples = 30000\n",
    "input_tensor, target_tensor, inp_lang, targ_lang = load_dataset(path_to_file, num_examples)\n",
    "\n",
    "# Calculate max_length of the target tensors\n",
    "max_length_targ, max_length_inp = target_tensor.shape[1], input_tensor.shape[1]\n",
    "\n",
    "\n",
    "# Creating training and validation sets using an 80-20 split\n",
    "input_tensor_train, input_tensor_val, target_tensor_train, target_tensor_val = train_test_split(input_tensor, target_tensor, test_size=0.2)\n",
    "\n",
    "# Show length\n",
    "print(len(input_tensor_train), len(target_tensor_train), len(input_tensor_val), len(target_tensor_val))\n"
   ]
  },
  {
   "cell_type": "code",
   "execution_count": 0,
   "metadata": {
    "colab": {},
    "colab_type": "code",
    "id": "Rldaa8jkXtFO"
   },
   "outputs": [],
   "source": [
    "def convert(lang, tensor):\n",
    "  for t in tensor:\n",
    "    if t!=0:\n",
    "      print (\"%d ----> %s\" % (t, lang.index_word[t]))\n"
   ]
  },
  {
   "cell_type": "code",
   "execution_count": 29,
   "metadata": {
    "colab": {
     "base_uri": "https://localhost:8080/",
     "height": 1000
    },
    "colab_type": "code",
    "id": "NuHS6QhwXvmV",
    "outputId": "f234419e-236b-474b-e324-78f5b6ca6a0c"
   },
   "outputs": [
    {
     "name": "stdout",
     "output_type": "stream",
     "text": [
      "Input Language; index to word mapping\n",
      "1 ----> <start>\n",
      "11 ----> i\n",
      "73 ----> am\n",
      "88 ----> sorry\n",
      "23 ----> that\n",
      "2680 ----> brussel\n",
      "2681 ----> sprouts\n",
      "21 ----> is\n",
      "58 ----> out\n",
      "27 ----> of\n",
      "599 ----> stock\n",
      "114 ----> as\n",
      "146 ----> well\n",
      "4 ----> ,\n",
      "15 ----> would\n",
      "5 ----> you\n",
      "14 ----> like\n",
      "10 ----> to\n",
      "56 ----> pick\n",
      "151 ----> something\n",
      "37 ----> else\n",
      "6 ----> ?\n",
      "2 ----> <end>\n",
      "\n",
      "Target Language; index to word mapping\n",
      "7 ----> <start>\n",
      "264 ----> thick\n",
      "42 ----> please\n",
      "1 ----> \\.\n",
      "21 ----> what\n",
      "45 ----> are\n",
      "9 ----> the\n",
      "64 ----> toppinggs\n",
      "5 ----> you\n",
      "26 ----> want\n",
      "3 ----> ?\n",
      "103 ----> pineapple\n",
      "2 ----> ,\n",
      "535 ----> grilled\n",
      "92 ----> chicken\n",
      "2 ----> ,\n",
      "100 ----> green\n",
      "187 ----> pepper\n",
      "10 ----> and\n",
      "336 ----> olive\n",
      "4 ----> i\n",
      "57 ----> am\n",
      "130 ----> sorry\n",
      "13 ----> that\n",
      "103 ----> pineapple\n",
      "20 ----> is\n",
      "76 ----> out\n",
      "1 ----> \\.\n",
      "16 ----> would\n",
      "5 ----> you\n",
      "15 ----> like\n",
      "12 ----> to\n",
      "251 ----> substitute\n",
      "19 ----> for\n",
      "163 ----> something\n",
      "55 ----> else\n",
      "3 ----> ?\n",
      "62 ----> how\n",
      "71 ----> about\n",
      "2281 ----> brussel\n",
      "2282 ----> sprouts\n",
      "3 ----> ?\n",
      "8 ----> <end>\n"
     ]
    }
   ],
   "source": [
    "print (\"Input Language; index to word mapping\")\n",
    "convert(inp_lang, input_tensor_train[0])\n",
    "print ()\n",
    "print (\"Target Language; index to word mapping\")\n",
    "convert(targ_lang, target_tensor_train[0])\n"
   ]
  },
  {
   "cell_type": "code",
   "execution_count": 0,
   "metadata": {
    "colab": {},
    "colab_type": "code",
    "id": "8uSZENR-X_df"
   },
   "outputs": [],
   "source": [
    "BUFFER_SIZE = len(input_tensor_train)\n",
    "BATCH_SIZE = 32\n",
    "steps_per_epoch = len(input_tensor_train)//BATCH_SIZE\n",
    "embedding_dim = 85\n",
    "units = 300\n",
    "vocab_inp_size = len(inp_lang.word_index)+1\n",
    "vocab_tar_size = len(targ_lang.word_index)+1\n",
    "\n",
    "dataset = tf.data.Dataset.from_tensor_slices((input_tensor_train, target_tensor_train)).shuffle(BUFFER_SIZE)\n",
    "dataset = dataset.batch(BATCH_SIZE, drop_remainder=True)\n"
   ]
  },
  {
   "cell_type": "code",
   "execution_count": 31,
   "metadata": {
    "colab": {
     "base_uri": "https://localhost:8080/",
     "height": 34
    },
    "colab_type": "code",
    "id": "kEtriWFMYEv-",
    "outputId": "714f39c5-192f-4e96-ace2-110080569475"
   },
   "outputs": [
    {
     "data": {
      "text/plain": [
       "(TensorShape([32, 217]), TensorShape([32, 289]))"
      ]
     },
     "execution_count": 31,
     "metadata": {
      "tags": []
     },
     "output_type": "execute_result"
    }
   ],
   "source": [
    "example_input_batch, example_target_batch = next(iter(dataset))\n",
    "example_input_batch.shape, example_target_batch.shape"
   ]
  },
  {
   "cell_type": "code",
   "execution_count": 0,
   "metadata": {
    "colab": {},
    "colab_type": "code",
    "id": "f_pI1rxiYNdr"
   },
   "outputs": [],
   "source": [
    "class Encoder(tf.keras.Model):\n",
    "  def __init__(self, vocab_size, embedding_dim, enc_units, batch_sz):\n",
    "    super(Encoder, self).__init__()\n",
    "    self.batch_sz = batch_sz\n",
    "    self.enc_units = enc_units\n",
    "    self.embedding = tf.keras.layers.Embedding(vocab_size, embedding_dim)\n",
    "    self.gru = tf.keras.layers.GRU(self.enc_units,\n",
    "                                   return_sequences=True,\n",
    "                                   return_state=True,\n",
    "                                   recurrent_initializer='glorot_uniform')\n",
    "\n",
    "  def call(self, x, hidden):\n",
    "    x = self.embedding(x)\n",
    "    output, state = self.gru(x, initial_state = hidden)\n",
    "    return output, state\n",
    "\n",
    "  def initialize_hidden_state(self):\n",
    "    return tf.zeros((self.batch_sz, self.enc_units))\n"
   ]
  },
  {
   "cell_type": "code",
   "execution_count": 33,
   "metadata": {
    "colab": {
     "base_uri": "https://localhost:8080/",
     "height": 52
    },
    "colab_type": "code",
    "id": "carX-5bTYO4E",
    "outputId": "88549609-32f0-4e8c-cab4-18e351076057"
   },
   "outputs": [
    {
     "name": "stdout",
     "output_type": "stream",
     "text": [
      "Encoder output shape: (batch size, sequence length, units) (32, 217, 300)\n",
      "Encoder Hidden state shape: (batch size, units) (32, 300)\n"
     ]
    }
   ],
   "source": [
    "encoder = Encoder(vocab_inp_size, embedding_dim, units, BATCH_SIZE)\n",
    "\n",
    "# sample input\n",
    "sample_hidden = encoder.initialize_hidden_state()\n",
    "sample_output, sample_hidden = encoder(example_input_batch, sample_hidden)\n",
    "print ('Encoder output shape: (batch size, sequence length, units) {}'.format(sample_output.shape))\n",
    "print ('Encoder Hidden state shape: (batch size, units) {}'.format(sample_hidden.shape))\n"
   ]
  },
  {
   "cell_type": "code",
   "execution_count": 0,
   "metadata": {
    "colab": {},
    "colab_type": "code",
    "id": "t2tqPrgxYRlu"
   },
   "outputs": [],
   "source": [
    "class BahdanauAttention(tf.keras.layers.Layer):\n",
    "  def __init__(self, units):\n",
    "    super(BahdanauAttention, self).__init__()\n",
    "    self.W1 = tf.keras.layers.Dense(units)\n",
    "    self.W2 = tf.keras.layers.Dense(units)\n",
    "    self.V = tf.keras.layers.Dense(1)\n",
    "\n",
    "  def call(self, query, values):\n",
    "    # query hidden state shape == (batch_size, hidden size)\n",
    "    # query_with_time_axis shape == (batch_size, 1, hidden size)\n",
    "    # values shape == (batch_size, max_len, hidden size)\n",
    "    # we are doing this to broadcast addition along the time axis to calculate the score\n",
    "    query_with_time_axis = tf.expand_dims(query, 1)\n",
    "\n",
    "    # score shape == (batch_size, max_length, 1)\n",
    "    # we get 1 at the last axis because we are applying score to self.V\n",
    "    # the shape of the tensor before applying self.V is (batch_size, max_length, units)\n",
    "    score = self.V(tf.nn.tanh(\n",
    "        self.W1(query_with_time_axis) + self.W2(values)))\n",
    "\n",
    "    # attention_weights shape == (batch_size, max_length, 1)\n",
    "    attention_weights = tf.nn.softmax(score, axis=1)\n",
    "\n",
    "    # context_vector shape after sum == (batch_size, hidden_size)\n",
    "    context_vector = attention_weights * values\n",
    "    context_vector = tf.reduce_sum(context_vector, axis=1)\n",
    "\n",
    "    return context_vector, attention_weights"
   ]
  },
  {
   "cell_type": "code",
   "execution_count": 35,
   "metadata": {
    "colab": {
     "base_uri": "https://localhost:8080/",
     "height": 52
    },
    "colab_type": "code",
    "id": "Wro0Ug5dYddQ",
    "outputId": "c5aaf36c-4848-4284-de0c-920194fa5a5c"
   },
   "outputs": [
    {
     "name": "stdout",
     "output_type": "stream",
     "text": [
      "Attention result shape: (batch size, units) (32, 300)\n",
      "Attention weights shape: (batch_size, sequence_length, 1) (32, 217, 1)\n"
     ]
    }
   ],
   "source": [
    "attention_layer = BahdanauAttention(10)\n",
    "attention_result, attention_weights = attention_layer(sample_hidden, sample_output)\n",
    "\n",
    "print(\"Attention result shape: (batch size, units) {}\".format(attention_result.shape))\n",
    "print(\"Attention weights shape: (batch_size, sequence_length, 1) {}\".format(attention_weights.shape))\n"
   ]
  },
  {
   "cell_type": "code",
   "execution_count": 0,
   "metadata": {
    "colab": {},
    "colab_type": "code",
    "id": "a7W1laagYmFW"
   },
   "outputs": [],
   "source": [
    "class Decoder(tf.keras.Model):\n",
    "  def __init__(self, vocab_size, embedding_dim, dec_units, batch_sz):\n",
    "    super(Decoder, self).__init__()\n",
    "    self.batch_sz = batch_sz\n",
    "    self.dec_units = dec_units\n",
    "    self.embedding = tf.keras.layers.Embedding(vocab_size, embedding_dim)\n",
    "    self.gru = tf.keras.layers.GRU(self.dec_units,\n",
    "                                   return_sequences=True,\n",
    "                                   return_state=True,\n",
    "                                   recurrent_initializer='glorot_uniform')\n",
    "    self.fc = tf.keras.layers.Dense(vocab_size)\n",
    "\n",
    "    # used for attention\n",
    "    self.attention = BahdanauAttention(self.dec_units)\n",
    "\n",
    "  def call(self, x, hidden, enc_output):\n",
    "    # enc_output shape == (batch_size, max_length, hidden_size)\n",
    "    context_vector, attention_weights = self.attention(hidden, enc_output)\n",
    "\n",
    "    # x shape after passing through embedding == (batch_size, 1, embedding_dim)\n",
    "    x = self.embedding(x)\n",
    "\n",
    "    # x shape after concatenation == (batch_size, 1, embedding_dim + hidden_size)\n",
    "    x = tf.concat([tf.expand_dims(context_vector, 1), x], axis=-1)\n",
    "\n",
    "    # passing the concatenated vector to the GRU\n",
    "    output, state = self.gru(x)\n",
    "\n",
    "    # output shape == (batch_size * 1, hidden_size)\n",
    "    output = tf.reshape(output, (-1, output.shape[2]))\n",
    "\n",
    "    # output shape == (batch_size, vocab)\n",
    "    x = self.fc(output)\n",
    "\n",
    "    return x, state, attention_weights"
   ]
  },
  {
   "cell_type": "code",
   "execution_count": 37,
   "metadata": {
    "colab": {
     "base_uri": "https://localhost:8080/",
     "height": 34
    },
    "colab_type": "code",
    "id": "yMOBo1gZYp6z",
    "outputId": "5b6fe71b-827b-4b43-acbf-595943a012d7"
   },
   "outputs": [
    {
     "name": "stdout",
     "output_type": "stream",
     "text": [
      "Decoder output shape: (batch_size, vocab size) (32, 4533)\n"
     ]
    }
   ],
   "source": [
    "decoder = Decoder(vocab_tar_size, embedding_dim, units, BATCH_SIZE)\n",
    "\n",
    "sample_decoder_output, _, _ = decoder(tf.random.uniform((BATCH_SIZE, 1)),\n",
    "                                      sample_hidden, sample_output)\n",
    "\n",
    "print ('Decoder output shape: (batch_size, vocab size) {}'.format(sample_decoder_output.shape))\n"
   ]
  },
  {
   "cell_type": "code",
   "execution_count": 0,
   "metadata": {
    "colab": {},
    "colab_type": "code",
    "id": "oxUjBIGHYw23"
   },
   "outputs": [],
   "source": [
    "optimizer = tf.keras.optimizers.Adam()\n",
    "loss_object = tf.keras.losses.SparseCategoricalCrossentropy(\n",
    "    from_logits=True, reduction='none')\n",
    "\n",
    "def loss_function(real, pred):\n",
    "  mask = tf.math.logical_not(tf.math.equal(real, 0))\n",
    "  loss_ = loss_object(real, pred)\n",
    "\n",
    "  mask = tf.cast(mask, dtype=loss_.dtype)\n",
    "  loss_ *= mask\n",
    "\n",
    "  return tf.reduce_mean(loss_)\n"
   ]
  },
  {
   "cell_type": "code",
   "execution_count": 0,
   "metadata": {
    "colab": {},
    "colab_type": "code",
    "id": "Dy4H5EnpY0ct"
   },
   "outputs": [],
   "source": [
    "checkpoint_dir = './training_checkpoints'\n",
    "checkpoint_prefix = os.path.join(checkpoint_dir, \"ckpt\")\n",
    "checkpoint = tf.train.Checkpoint(optimizer=optimizer,\n",
    "                                 encoder=encoder,\n",
    "                                 decoder=decoder)\n"
   ]
  },
  {
   "cell_type": "code",
   "execution_count": 0,
   "metadata": {
    "colab": {},
    "colab_type": "code",
    "id": "ZnYdIRKxY2so"
   },
   "outputs": [],
   "source": [
    "@tf.function\n",
    "def train_step(inp, targ, enc_hidden):\n",
    "  loss = 0\n",
    "\n",
    "  with tf.GradientTape() as tape:\n",
    "    enc_output, enc_hidden = encoder(inp, enc_hidden)\n",
    "\n",
    "    dec_hidden = enc_hidden\n",
    "\n",
    "    dec_input = tf.expand_dims([targ_lang.word_index['<start>']] * BATCH_SIZE, 1)\n",
    "\n",
    "    # Teacher forcing - feeding the target as the next input\n",
    "    for t in range(1, targ.shape[1]):\n",
    "      # passing enc_output to the decoder\n",
    "      predictions, dec_hidden, _ = decoder(dec_input, dec_hidden, enc_output)\n",
    "\n",
    "      loss += loss_function(targ[:, t], predictions)\n",
    "\n",
    "      # using teacher forcing\n",
    "      dec_input = tf.expand_dims(targ[:, t], 1)\n",
    "\n",
    "  batch_loss = (loss / int(targ.shape[1]))\n",
    "\n",
    "  variables = encoder.trainable_variables + decoder.trainable_variables\n",
    "\n",
    "  gradients = tape.gradient(loss, variables)\n",
    "\n",
    "  optimizer.apply_gradients(zip(gradients, variables))\n",
    "\n",
    "  return batch_loss"
   ]
  },
  {
   "cell_type": "code",
   "execution_count": 42,
   "metadata": {
    "colab": {
     "base_uri": "https://localhost:8080/",
     "height": 1000
    },
    "colab_type": "code",
    "id": "vMWZb4a-Y7O8",
    "outputId": "5a68a3e6-bad3-41e9-f555-4a11d4b747ff"
   },
   "outputs": [
    {
     "name": "stdout",
     "output_type": "stream",
     "text": [
      "Epoch 1 Batch 0 Loss 1.2791\n",
      "Epoch 1 Batch 100 Loss 0.9190\n",
      "Epoch 1 Batch 200 Loss 0.7830\n",
      "Epoch 1 Batch 300 Loss 0.6143\n",
      "Epoch 1 Loss 0.7666\n",
      "Time taken for 1 epoch 834.207998752594 sec\n",
      "\n",
      "Epoch 2 Batch 0 Loss 0.6941\n",
      "Epoch 2 Batch 100 Loss 0.6464\n",
      "Epoch 2 Batch 200 Loss 0.7817\n",
      "Epoch 2 Batch 300 Loss 0.6316\n",
      "Epoch 2 Loss 0.6177\n",
      "Time taken for 1 epoch 500.00929975509644 sec\n",
      "\n",
      "Epoch 3 Batch 0 Loss 0.5303\n",
      "Epoch 3 Batch 100 Loss 0.5113\n",
      "Epoch 3 Batch 200 Loss 0.5264\n",
      "Epoch 3 Batch 300 Loss 0.4399\n",
      "Epoch 3 Loss 0.5643\n",
      "Time taken for 1 epoch 494.54068756103516 sec\n",
      "\n",
      "Epoch 4 Batch 0 Loss 0.5258\n",
      "Epoch 4 Batch 100 Loss 0.5558\n",
      "Epoch 4 Batch 200 Loss 0.4950\n",
      "Epoch 4 Batch 300 Loss 0.5591\n",
      "Epoch 4 Loss 0.5301\n",
      "Time taken for 1 epoch 496.45320558547974 sec\n",
      "\n",
      "Epoch 5 Batch 0 Loss 0.4506\n",
      "Epoch 5 Batch 100 Loss 0.5169\n",
      "Epoch 5 Batch 200 Loss 0.4486\n",
      "Epoch 5 Batch 300 Loss 0.4009\n",
      "Epoch 5 Loss 0.5079\n",
      "Time taken for 1 epoch 497.22965240478516 sec\n",
      "\n",
      "Epoch 6 Batch 0 Loss 0.5297\n",
      "Epoch 6 Batch 100 Loss 0.4294\n",
      "Epoch 6 Batch 200 Loss 0.4847\n",
      "Epoch 6 Batch 300 Loss 0.5418\n",
      "Epoch 6 Loss 0.4899\n",
      "Time taken for 1 epoch 498.42852997779846 sec\n",
      "\n",
      "Epoch 7 Batch 0 Loss 0.4591\n",
      "Epoch 7 Batch 100 Loss 0.4836\n",
      "Epoch 7 Batch 200 Loss 0.5734\n",
      "Epoch 7 Batch 300 Loss 0.4896\n",
      "Epoch 7 Loss 0.4756\n",
      "Time taken for 1 epoch 498.46730518341064 sec\n",
      "\n",
      "Epoch 8 Batch 0 Loss 0.4838\n",
      "Epoch 8 Batch 100 Loss 0.4732\n",
      "Epoch 8 Batch 200 Loss 0.4330\n",
      "Epoch 8 Batch 300 Loss 0.5128\n",
      "Epoch 8 Loss 0.4635\n",
      "Time taken for 1 epoch 499.31460309028625 sec\n",
      "\n",
      "Epoch 9 Batch 0 Loss 0.4641\n",
      "Epoch 9 Batch 100 Loss 0.5146\n",
      "Epoch 9 Batch 200 Loss 0.3716\n",
      "Epoch 9 Batch 300 Loss 0.4852\n",
      "Epoch 9 Loss 0.4541\n",
      "Time taken for 1 epoch 498.800537109375 sec\n",
      "\n",
      "Epoch 10 Batch 0 Loss 0.5328\n",
      "Epoch 10 Batch 100 Loss 0.4092\n",
      "Epoch 10 Batch 200 Loss 0.4742\n",
      "Epoch 10 Batch 300 Loss 0.4296\n",
      "Epoch 10 Loss 0.4454\n",
      "Time taken for 1 epoch 498.77021288871765 sec\n",
      "\n",
      "Epoch 11 Batch 0 Loss 0.4536\n",
      "Epoch 11 Batch 100 Loss 0.4290\n",
      "Epoch 11 Batch 200 Loss 0.4564\n",
      "Epoch 11 Batch 300 Loss 0.3666\n",
      "Epoch 11 Loss 0.4380\n",
      "Time taken for 1 epoch 499.015501499176 sec\n",
      "\n",
      "Epoch 12 Batch 0 Loss 0.3893\n",
      "Epoch 12 Batch 100 Loss 0.3995\n",
      "Epoch 12 Batch 200 Loss 0.4301\n",
      "Epoch 12 Batch 300 Loss 0.3770\n",
      "Epoch 12 Loss 0.4310\n",
      "Time taken for 1 epoch 499.9355926513672 sec\n",
      "\n",
      "Epoch 13 Batch 0 Loss 0.4029\n",
      "Epoch 13 Batch 100 Loss 0.4214\n",
      "Epoch 13 Batch 200 Loss 0.4091\n",
      "Epoch 13 Batch 300 Loss 0.3761\n",
      "Epoch 13 Loss 0.4249\n",
      "Time taken for 1 epoch 498.8018202781677 sec\n",
      "\n",
      "Epoch 14 Batch 0 Loss 0.3663\n",
      "Epoch 14 Batch 100 Loss 0.4054\n",
      "Epoch 14 Batch 200 Loss 0.4035\n",
      "Epoch 14 Batch 300 Loss 0.4666\n",
      "Epoch 14 Loss 0.4192\n",
      "Time taken for 1 epoch 498.1557276248932 sec\n",
      "\n",
      "Epoch 15 Batch 0 Loss 0.4576\n",
      "Epoch 15 Batch 100 Loss 0.4307\n",
      "Epoch 15 Batch 200 Loss 0.4688\n",
      "Epoch 15 Batch 300 Loss 0.3720\n",
      "Epoch 15 Loss 0.4135\n",
      "Time taken for 1 epoch 498.0246253013611 sec\n",
      "\n"
     ]
    }
   ],
   "source": [
    "EPOCHS = 15\n",
    "for epoch in range(EPOCHS):\n",
    "  start = time.time()\n",
    "\n",
    "  enc_hidden = encoder.initialize_hidden_state()\n",
    "  total_loss = 0\n",
    "\n",
    "  for (batch, (inp, targ)) in enumerate(dataset.take(steps_per_epoch)):\n",
    "    batch_loss = train_step(inp, targ, enc_hidden)\n",
    "    total_loss += batch_loss\n",
    "\n",
    "    if batch % 100 == 0:\n",
    "      print('Epoch {} Batch {} Loss {:.4f}'.format(epoch + 1,\n",
    "                                                   batch,\n",
    "                                                   batch_loss.numpy()))\n",
    "  # saving (checkpoint) the model every 2 epochs\n",
    "  if (epoch + 1) % 2 == 0:\n",
    "    checkpoint.save(file_prefix = checkpoint_prefix)\n",
    "\n",
    "  print('Epoch {} Loss {:.4f}'.format(epoch + 1,\n",
    "                                      total_loss / steps_per_epoch))\n",
    "  print('Time taken for 1 epoch {} sec\\n'.format(time.time() - start))\n"
   ]
  },
  {
   "cell_type": "code",
   "execution_count": 0,
   "metadata": {
    "colab": {},
    "colab_type": "code",
    "id": "MYZbfhIGY-yl"
   },
   "outputs": [],
   "source": [
    "\n",
    "# function for plotting the attention weights\n",
    "def plot_attention(attention, sentence, predicted_sentence):\n",
    "  fig = plt.figure(figsize=(10,10))\n",
    "  ax = fig.add_subplot(1, 1, 1)\n",
    "  ax.matshow(attention, cmap='viridis')\n",
    "\n",
    "  fontdict = {'fontsize': 14}\n",
    "\n",
    "  ax.set_xticklabels([''] + sentence, fontdict=fontdict, rotation=90)\n",
    "  ax.set_yticklabels([''] + predicted_sentence, fontdict=fontdict)\n",
    "\n",
    "  ax.xaxis.set_major_locator(ticker.MultipleLocator(1))\n",
    "  ax.yaxis.set_major_locator(ticker.MultipleLocator(1))\n",
    "\n",
    "  plt.show()\n",
    "\n",
    "\n",
    "def evaluate(sentence):\n",
    "  attention_plot = np.zeros((max_length_targ, max_length_inp))\n",
    "\n",
    "  #sentence = preprocess_sentence(sentence)\n",
    "  #sentence = preprocess_sentence(sentence)\n",
    "\n",
    "  inputs = [inp_lang.word_index[i] for i in sentence.split(' ')]\n",
    "  inputs = tf.keras.preprocessing.sequence.pad_sequences([inputs],\n",
    "                                                         maxlen=max_length_inp,\n",
    "                                                         padding='post')\n",
    "  inputs = tf.convert_to_tensor(inputs)\n",
    "\n",
    "  result = ''\n",
    "\n",
    "  hidden = [tf.zeros((1, units))]\n",
    "  enc_out, enc_hidden = encoder(inputs, hidden)\n",
    "\n",
    "  dec_hidden = enc_hidden\n",
    "  dec_input = tf.expand_dims([targ_lang.word_index['<start>']], 0)\n",
    "\n",
    "  for t in range(max_length_targ):\n",
    "    predictions, dec_hidden, attention_weights = decoder(dec_input,\n",
    "                                                         dec_hidden,\n",
    "                                                         enc_out)\n",
    "\n",
    "    # storing the attention weights to plot later on\n",
    "    attention_weights = tf.reshape(attention_weights, (-1, ))\n",
    "    attention_plot[t] = attention_weights.numpy()\n",
    "\n",
    "    predicted_id = tf.argmax(predictions[0]).numpy()\n",
    "\n",
    "    result += targ_lang.index_word[predicted_id] + ' '\n",
    "\n",
    "    if targ_lang.index_word[predicted_id] == '<end>':\n",
    "      return result, sentence, attention_plot\n",
    "\n",
    "    # the predicted ID is fed back into the model\n",
    "    dec_input = tf.expand_dims([predicted_id], 0)\n",
    "\n",
    "  return result, sentence, attention_plot\n",
    "\n",
    "\n",
    "def translate(sentence):\n",
    "  result, sentence, attention_plot = evaluate(sentence)\n",
    "\n",
    "  print('Input: %s' % (sentence))\n",
    "  print('Predicted translation: {}'.format(result))\n",
    "\n",
    "  attention_plot = attention_plot[:len(result.split(' ')), :len(sentence.split(' '))]\n",
    "  plot_attention(attention_plot, sentence.split(' '), result.split(' '))\n"
   ]
  },
  {
   "cell_type": "code",
   "execution_count": 53,
   "metadata": {
    "colab": {
     "base_uri": "https://localhost:8080/",
     "height": 676
    },
    "colab_type": "code",
    "id": "TDrP6NGzIBcG",
    "outputId": "e14bf18b-2c38-4fa7-fec9-32929b1f7154"
   },
   "outputs": [
    {
     "name": "stdout",
     "output_type": "stream",
     "text": [
      "Input: <start> i would like to order a pizza from papa johns <end>\n",
      "Predicted translation: i would like to order a pizza from pizza hut \\. <end> \n"
     ]
    },
    {
     "data": {
      "image/png": "[encoded data removed]",
      "text/plain": [
       "<Figure size 720x720 with 1 Axes>"
      ]
     },
     "metadata": {
      "needs_background": "light",
      "tags": []
     },
     "output_type": "display_data"
    }
   ],
   "source": [
    "# restoring the latest checkpoint in checkpoint_dir\n",
    "checkpoint.restore(tf.train.latest_checkpoint(checkpoint_dir))\n",
    "\n",
    "translate(u'<start> i would like to order a pizza from papa johns <end>')\n"
   ]
  },
  {
   "cell_type": "code",
   "execution_count": 54,
   "metadata": {
    "colab": {
     "base_uri": "https://localhost:8080/",
     "height": 676
    },
    "colab_type": "code",
    "id": "0FbvTOCvaJcV",
    "outputId": "7ccce8c1-73fb-47e1-858d-33619a81091a"
   },
   "outputs": [
    {
     "name": "stdout",
     "output_type": "stream",
     "text": [
      "Input: <start> hi i want to eat some pizza <end>\n",
      "Predicted translation: i want to order a pizza from pizza hut <end> \n"
     ]
    },
    {
     "data": {
      "image/png": "[encoded data removed]",
      "text/plain": [
       "<Figure size 720x720 with 1 Axes>"
      ]
     },
     "metadata": {
      "needs_background": "light",
      "tags": []
     },
     "output_type": "display_data"
    }
   ],
   "source": [
    "translate(u'<start> hi i want to eat some pizza <end>')\n"
   ]
  },
  {
   "cell_type": "code",
   "execution_count": 55,
   "metadata": {
    "colab": {
     "base_uri": "https://localhost:8080/",
     "height": 692
    },
    "colab_type": "code",
    "id": "InDk_hsLF_q6",
    "outputId": "2f9360af-4e7a-4620-9394-8861ad6f8671"
   },
   "outputs": [
    {
     "name": "stdout",
     "output_type": "stream",
     "text": [
      "Input: <start> do you have any promotion <end>\n",
      "Predicted translation: i would like to order a pizza from pizza hut \\. <end> \n"
     ]
    },
    {
     "data": {
      "image/png": "[encoded data removed]",
      "text/plain": [
       "<Figure size 720x720 with 1 Axes>"
      ]
     },
     "metadata": {
      "needs_background": "light",
      "tags": []
     },
     "output_type": "display_data"
    }
   ],
   "source": [
    "translate(u'<start> do you have any promotion <end>')"
   ]
  },
  {
   "cell_type": "code",
   "execution_count": 56,
   "metadata": {
    "colab": {
     "base_uri": "https://localhost:8080/",
     "height": 692
    },
    "colab_type": "code",
    "id": "mmRJ4IzdGTel",
    "outputId": "5e63f9d6-cb27-4299-8453-105c1303c747"
   },
   "outputs": [
    {
     "name": "stdout",
     "output_type": "stream",
     "text": [
      "Input: <start> what is the cost of the extra ingredient <end>\n",
      "Predicted translation: i would like to order a pizza from pizza hut \\. <end> \n"
     ]
    },
    {
     "data": {
      "image/png": "[encoded data removed]",
      "text/plain": [
       "<Figure size 720x720 with 1 Axes>"
      ]
     },
     "metadata": {
      "needs_background": "light",
      "tags": []
     },
     "output_type": "display_data"
    }
   ],
   "source": [
    "translate(u'<start> what is the cost of the extra ingredient <end>')"
   ]
  },
  {
   "cell_type": "code",
   "execution_count": 57,
   "metadata": {
    "colab": {
     "base_uri": "https://localhost:8080/",
     "height": 676
    },
    "colab_type": "code",
    "id": "T4w5_GPiGcSN",
    "outputId": "d644caaf-009d-4027-84a1-f9af84e82e32"
   },
   "outputs": [
    {
     "name": "stdout",
     "output_type": "stream",
     "text": [
      "Input: <start> what is the delivery time <end>\n",
      "Predicted translation: i would like to order a pizza from pizza hut \\. <end> \n"
     ]
    },
    {
     "data": {
      "image/png": "[encoded data removed]",
      "text/plain": [
       "<Figure size 720x720 with 1 Axes>"
      ]
     },
     "metadata": {
      "needs_background": "light",
      "tags": []
     },
     "output_type": "display_data"
    }
   ],
   "source": [
    "translate(u'<start> what is the delivery time <end>')"
   ]
  }
 ],
 "metadata": {
  "accelerator": "GPU",
  "colab": {
   "collapsed_sections": [],
   "name": "20200525_Modelo_seq2seq_AsistenteVirtual_V1.ipynb",
   "provenance": []
  },
  "kernelspec": {
   "display_name": "Python 3",
   "language": "python",
   "name": "python3"
  },
  "language_info": {
   "codemirror_mode": {
    "name": "ipython",
    "version": 3
   },
   "file_extension": ".py",
   "mimetype": "text/x-python",
   "name": "python",
   "nbconvert_exporter": "python",
   "pygments_lexer": "ipython3",
   "version": "3.7.3"
  }
 },
 "nbformat": 4,
 "nbformat_minor": 1
}
